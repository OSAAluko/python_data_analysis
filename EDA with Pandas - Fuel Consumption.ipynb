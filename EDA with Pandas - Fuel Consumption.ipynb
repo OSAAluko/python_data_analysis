{
 "cells": [
  {
   "cell_type": "code",
   "execution_count": 1,
   "id": "80476710",
   "metadata": {
    "scrolled": true
   },
   "outputs": [
    {
     "data": {
      "text/html": [
       "<div>\n",
       "<style scoped>\n",
       "    .dataframe tbody tr th:only-of-type {\n",
       "        vertical-align: middle;\n",
       "    }\n",
       "\n",
       "    .dataframe tbody tr th {\n",
       "        vertical-align: top;\n",
       "    }\n",
       "\n",
       "    .dataframe thead th {\n",
       "        text-align: right;\n",
       "    }\n",
       "</style>\n",
       "<table border=\"1\" class=\"dataframe\">\n",
       "  <thead>\n",
       "    <tr style=\"text-align: right;\">\n",
       "      <th></th>\n",
       "      <th>YEAR</th>\n",
       "      <th>MAKE</th>\n",
       "      <th>MODEL</th>\n",
       "      <th>VEHICLE CLASS</th>\n",
       "      <th>ENGINE SIZE</th>\n",
       "      <th>CYLINDERS</th>\n",
       "      <th>TRANSMISSION</th>\n",
       "      <th>FUEL</th>\n",
       "      <th>FUEL CONSUMPTION</th>\n",
       "      <th>HWY (L/100 km)</th>\n",
       "      <th>COMB (L/100 km)</th>\n",
       "      <th>COMB (mpg)</th>\n",
       "      <th>EMISSIONS</th>\n",
       "    </tr>\n",
       "  </thead>\n",
       "  <tbody>\n",
       "    <tr>\n",
       "      <th>0</th>\n",
       "      <td>2000</td>\n",
       "      <td>ACURA</td>\n",
       "      <td>1.6EL</td>\n",
       "      <td>COMPACT</td>\n",
       "      <td>1.6</td>\n",
       "      <td>4</td>\n",
       "      <td>A4</td>\n",
       "      <td>X</td>\n",
       "      <td>9.2</td>\n",
       "      <td>6.7</td>\n",
       "      <td>8.1</td>\n",
       "      <td>35</td>\n",
       "      <td>186</td>\n",
       "    </tr>\n",
       "    <tr>\n",
       "      <th>1</th>\n",
       "      <td>2000</td>\n",
       "      <td>ACURA</td>\n",
       "      <td>1.6EL</td>\n",
       "      <td>COMPACT</td>\n",
       "      <td>1.6</td>\n",
       "      <td>4</td>\n",
       "      <td>M5</td>\n",
       "      <td>X</td>\n",
       "      <td>8.5</td>\n",
       "      <td>6.5</td>\n",
       "      <td>7.6</td>\n",
       "      <td>37</td>\n",
       "      <td>175</td>\n",
       "    </tr>\n",
       "    <tr>\n",
       "      <th>2</th>\n",
       "      <td>2000</td>\n",
       "      <td>ACURA</td>\n",
       "      <td>3.2TL</td>\n",
       "      <td>MID-SIZE</td>\n",
       "      <td>3.2</td>\n",
       "      <td>6</td>\n",
       "      <td>AS5</td>\n",
       "      <td>Z</td>\n",
       "      <td>12.2</td>\n",
       "      <td>7.4</td>\n",
       "      <td>10.0</td>\n",
       "      <td>28</td>\n",
       "      <td>230</td>\n",
       "    </tr>\n",
       "    <tr>\n",
       "      <th>3</th>\n",
       "      <td>2000</td>\n",
       "      <td>ACURA</td>\n",
       "      <td>3.5RL</td>\n",
       "      <td>MID-SIZE</td>\n",
       "      <td>3.5</td>\n",
       "      <td>6</td>\n",
       "      <td>A4</td>\n",
       "      <td>Z</td>\n",
       "      <td>13.4</td>\n",
       "      <td>9.2</td>\n",
       "      <td>11.5</td>\n",
       "      <td>25</td>\n",
       "      <td>264</td>\n",
       "    </tr>\n",
       "    <tr>\n",
       "      <th>4</th>\n",
       "      <td>2000</td>\n",
       "      <td>ACURA</td>\n",
       "      <td>INTEGRA</td>\n",
       "      <td>SUBCOMPACT</td>\n",
       "      <td>1.8</td>\n",
       "      <td>4</td>\n",
       "      <td>A4</td>\n",
       "      <td>X</td>\n",
       "      <td>10.0</td>\n",
       "      <td>7.0</td>\n",
       "      <td>8.6</td>\n",
       "      <td>33</td>\n",
       "      <td>198</td>\n",
       "    </tr>\n",
       "    <tr>\n",
       "      <th>...</th>\n",
       "      <td>...</td>\n",
       "      <td>...</td>\n",
       "      <td>...</td>\n",
       "      <td>...</td>\n",
       "      <td>...</td>\n",
       "      <td>...</td>\n",
       "      <td>...</td>\n",
       "      <td>...</td>\n",
       "      <td>...</td>\n",
       "      <td>...</td>\n",
       "      <td>...</td>\n",
       "      <td>...</td>\n",
       "      <td>...</td>\n",
       "    </tr>\n",
       "    <tr>\n",
       "      <th>22551</th>\n",
       "      <td>2022</td>\n",
       "      <td>Volvo</td>\n",
       "      <td>XC40 T5 AWD</td>\n",
       "      <td>SUV: Small</td>\n",
       "      <td>2.0</td>\n",
       "      <td>4</td>\n",
       "      <td>AS8</td>\n",
       "      <td>Z</td>\n",
       "      <td>10.7</td>\n",
       "      <td>7.7</td>\n",
       "      <td>9.4</td>\n",
       "      <td>30</td>\n",
       "      <td>219</td>\n",
       "    </tr>\n",
       "    <tr>\n",
       "      <th>22552</th>\n",
       "      <td>2022</td>\n",
       "      <td>Volvo</td>\n",
       "      <td>XC60 B5 AWD</td>\n",
       "      <td>SUV: Small</td>\n",
       "      <td>2.0</td>\n",
       "      <td>4</td>\n",
       "      <td>AS8</td>\n",
       "      <td>Z</td>\n",
       "      <td>10.5</td>\n",
       "      <td>8.1</td>\n",
       "      <td>9.4</td>\n",
       "      <td>30</td>\n",
       "      <td>219</td>\n",
       "    </tr>\n",
       "    <tr>\n",
       "      <th>22553</th>\n",
       "      <td>2022</td>\n",
       "      <td>Volvo</td>\n",
       "      <td>XC60 B6 AWD</td>\n",
       "      <td>SUV: Small</td>\n",
       "      <td>2.0</td>\n",
       "      <td>4</td>\n",
       "      <td>AS8</td>\n",
       "      <td>Z</td>\n",
       "      <td>11.0</td>\n",
       "      <td>8.7</td>\n",
       "      <td>9.9</td>\n",
       "      <td>29</td>\n",
       "      <td>232</td>\n",
       "    </tr>\n",
       "    <tr>\n",
       "      <th>22554</th>\n",
       "      <td>2022</td>\n",
       "      <td>Volvo</td>\n",
       "      <td>XC90 T5 AWD</td>\n",
       "      <td>SUV: Standard</td>\n",
       "      <td>2.0</td>\n",
       "      <td>4</td>\n",
       "      <td>AS8</td>\n",
       "      <td>Z</td>\n",
       "      <td>11.5</td>\n",
       "      <td>8.4</td>\n",
       "      <td>10.1</td>\n",
       "      <td>28</td>\n",
       "      <td>236</td>\n",
       "    </tr>\n",
       "    <tr>\n",
       "      <th>22555</th>\n",
       "      <td>2022</td>\n",
       "      <td>Volvo</td>\n",
       "      <td>XC90 T6 AWD</td>\n",
       "      <td>SUV: Standard</td>\n",
       "      <td>2.0</td>\n",
       "      <td>4</td>\n",
       "      <td>AS8</td>\n",
       "      <td>Z</td>\n",
       "      <td>12.4</td>\n",
       "      <td>8.9</td>\n",
       "      <td>10.8</td>\n",
       "      <td>26</td>\n",
       "      <td>252</td>\n",
       "    </tr>\n",
       "  </tbody>\n",
       "</table>\n",
       "<p>22556 rows × 13 columns</p>\n",
       "</div>"
      ],
      "text/plain": [
       "       YEAR   MAKE        MODEL  VEHICLE CLASS  ENGINE SIZE  CYLINDERS  \\\n",
       "0      2000  ACURA        1.6EL        COMPACT          1.6          4   \n",
       "1      2000  ACURA        1.6EL        COMPACT          1.6          4   \n",
       "2      2000  ACURA        3.2TL       MID-SIZE          3.2          6   \n",
       "3      2000  ACURA        3.5RL       MID-SIZE          3.5          6   \n",
       "4      2000  ACURA      INTEGRA     SUBCOMPACT          1.8          4   \n",
       "...     ...    ...          ...            ...          ...        ...   \n",
       "22551  2022  Volvo  XC40 T5 AWD     SUV: Small          2.0          4   \n",
       "22552  2022  Volvo  XC60 B5 AWD     SUV: Small          2.0          4   \n",
       "22553  2022  Volvo  XC60 B6 AWD     SUV: Small          2.0          4   \n",
       "22554  2022  Volvo  XC90 T5 AWD  SUV: Standard          2.0          4   \n",
       "22555  2022  Volvo  XC90 T6 AWD  SUV: Standard          2.0          4   \n",
       "\n",
       "      TRANSMISSION FUEL  FUEL CONSUMPTION  HWY (L/100 km)  COMB (L/100 km)  \\\n",
       "0               A4    X               9.2             6.7              8.1   \n",
       "1               M5    X               8.5             6.5              7.6   \n",
       "2              AS5    Z              12.2             7.4             10.0   \n",
       "3               A4    Z              13.4             9.2             11.5   \n",
       "4               A4    X              10.0             7.0              8.6   \n",
       "...            ...  ...               ...             ...              ...   \n",
       "22551          AS8    Z              10.7             7.7              9.4   \n",
       "22552          AS8    Z              10.5             8.1              9.4   \n",
       "22553          AS8    Z              11.0             8.7              9.9   \n",
       "22554          AS8    Z              11.5             8.4             10.1   \n",
       "22555          AS8    Z              12.4             8.9             10.8   \n",
       "\n",
       "       COMB (mpg)  EMISSIONS  \n",
       "0              35        186  \n",
       "1              37        175  \n",
       "2              28        230  \n",
       "3              25        264  \n",
       "4              33        198  \n",
       "...           ...        ...  \n",
       "22551          30        219  \n",
       "22552          30        219  \n",
       "22553          29        232  \n",
       "22554          28        236  \n",
       "22555          26        252  \n",
       "\n",
       "[22556 rows x 13 columns]"
      ]
     },
     "execution_count": 1,
     "metadata": {},
     "output_type": "execute_result"
    }
   ],
   "source": [
    "import pandas as pd\n",
    "\n",
    "# Read the file data\n",
    "data_var = pd.read_csv('Fuel_Consumption_2000-2022.csv', sep = '\\,', engine = 'python')\n",
    "\n",
    "# Make a copy of the file data variable into a DataFrame\n",
    "data_df = data_var.copy()\n",
    "\n",
    "pd.options.display.max_columns = None #displays all columns\n",
    "pd.options.display.max_rows = 10 #displays 10 rows\n",
    "\n",
    "data_df"
   ]
  },
  {
   "cell_type": "code",
   "execution_count": 2,
   "id": "cea9e468",
   "metadata": {},
   "outputs": [
    {
     "name": "stdout",
     "output_type": "stream",
     "text": [
      "<class 'pandas.core.frame.DataFrame'>\n",
      "RangeIndex: 22556 entries, 0 to 22555\n",
      "Data columns (total 13 columns):\n",
      " #   Column            Non-Null Count  Dtype  \n",
      "---  ------            --------------  -----  \n",
      " 0   YEAR              22556 non-null  int64  \n",
      " 1   MAKE              22556 non-null  object \n",
      " 2   MODEL             22556 non-null  object \n",
      " 3   VEHICLE CLASS     22556 non-null  object \n",
      " 4   ENGINE SIZE       22556 non-null  float64\n",
      " 5   CYLINDERS         22556 non-null  int64  \n",
      " 6   TRANSMISSION      22556 non-null  object \n",
      " 7   FUEL              22556 non-null  object \n",
      " 8   FUEL CONSUMPTION  22556 non-null  float64\n",
      " 9   HWY (L/100 km)    22556 non-null  float64\n",
      " 10  COMB (L/100 km)   22556 non-null  float64\n",
      " 11  COMB (mpg)        22556 non-null  int64  \n",
      " 12  EMISSIONS         22556 non-null  int64  \n",
      "dtypes: float64(4), int64(4), object(5)\n",
      "memory usage: 2.2+ MB\n"
     ]
    }
   ],
   "source": [
    "# Get an overview of the data\n",
    "data_df.info()"
   ]
  },
  {
   "cell_type": "code",
   "execution_count": 3,
   "id": "4d0efbeb",
   "metadata": {},
   "outputs": [
    {
     "name": "stdout",
     "output_type": "stream",
     "text": [
      "<class 'pandas.core.frame.DataFrame'>\n",
      "RangeIndex: 22556 entries, 0 to 22555\n",
      "Data columns (total 10 columns):\n",
      " #   Column            Non-Null Count  Dtype  \n",
      "---  ------            --------------  -----  \n",
      " 0   YEAR              22556 non-null  int64  \n",
      " 1   MAKE              22556 non-null  object \n",
      " 2   MODEL             22556 non-null  object \n",
      " 3   VEHICLE CLASS     22556 non-null  object \n",
      " 4   ENGINE SIZE       22556 non-null  float64\n",
      " 5   CYLINDERS         22556 non-null  int64  \n",
      " 6   TRANSMISSION      22556 non-null  object \n",
      " 7   FUEL              22556 non-null  object \n",
      " 8   FUEL CONSUMPTION  22556 non-null  float64\n",
      " 9   EMISSIONS         22556 non-null  int64  \n",
      "dtypes: float64(2), int64(3), object(5)\n",
      "memory usage: 1.7+ MB\n"
     ]
    }
   ],
   "source": [
    "# Assuming the insight needed is related to limiting fuel consumption and emissiions by making informed car purchase choices\n",
    "# Assuming we do not need these columns - HWY, COMB (L/100m) and COMB (mpg)\n",
    "data_df = data_df.drop(['HWY (L/100 km)', 'COMB (L/100 km)', 'COMB (mpg)'], axis = 1)\n",
    "data_df.info()\n"
   ]
  },
  {
   "cell_type": "code",
   "execution_count": 4,
   "id": "e8f66cc2",
   "metadata": {},
   "outputs": [
    {
     "data": {
      "text/html": [
       "<div>\n",
       "<style scoped>\n",
       "    .dataframe tbody tr th:only-of-type {\n",
       "        vertical-align: middle;\n",
       "    }\n",
       "\n",
       "    .dataframe tbody tr th {\n",
       "        vertical-align: top;\n",
       "    }\n",
       "\n",
       "    .dataframe thead th {\n",
       "        text-align: right;\n",
       "    }\n",
       "</style>\n",
       "<table border=\"1\" class=\"dataframe\">\n",
       "  <thead>\n",
       "    <tr style=\"text-align: right;\">\n",
       "      <th></th>\n",
       "      <th>YEAR</th>\n",
       "      <th>ENGINE SIZE</th>\n",
       "      <th>CYLINDERS</th>\n",
       "      <th>FUEL CONSUMPTION</th>\n",
       "      <th>EMISSIONS</th>\n",
       "    </tr>\n",
       "  </thead>\n",
       "  <tbody>\n",
       "    <tr>\n",
       "      <th>0</th>\n",
       "      <td>2000</td>\n",
       "      <td>1.6</td>\n",
       "      <td>4</td>\n",
       "      <td>9.2</td>\n",
       "      <td>186</td>\n",
       "    </tr>\n",
       "    <tr>\n",
       "      <th>1</th>\n",
       "      <td>2000</td>\n",
       "      <td>1.6</td>\n",
       "      <td>4</td>\n",
       "      <td>8.5</td>\n",
       "      <td>175</td>\n",
       "    </tr>\n",
       "    <tr>\n",
       "      <th>2</th>\n",
       "      <td>2000</td>\n",
       "      <td>3.2</td>\n",
       "      <td>6</td>\n",
       "      <td>12.2</td>\n",
       "      <td>230</td>\n",
       "    </tr>\n",
       "    <tr>\n",
       "      <th>3</th>\n",
       "      <td>2000</td>\n",
       "      <td>3.5</td>\n",
       "      <td>6</td>\n",
       "      <td>13.4</td>\n",
       "      <td>264</td>\n",
       "    </tr>\n",
       "    <tr>\n",
       "      <th>4</th>\n",
       "      <td>2000</td>\n",
       "      <td>1.8</td>\n",
       "      <td>4</td>\n",
       "      <td>10.0</td>\n",
       "      <td>198</td>\n",
       "    </tr>\n",
       "    <tr>\n",
       "      <th>...</th>\n",
       "      <td>...</td>\n",
       "      <td>...</td>\n",
       "      <td>...</td>\n",
       "      <td>...</td>\n",
       "      <td>...</td>\n",
       "    </tr>\n",
       "    <tr>\n",
       "      <th>10</th>\n",
       "      <td>2000</td>\n",
       "      <td>1.8</td>\n",
       "      <td>4</td>\n",
       "      <td>9.7</td>\n",
       "      <td>193</td>\n",
       "    </tr>\n",
       "    <tr>\n",
       "      <th>11</th>\n",
       "      <td>2000</td>\n",
       "      <td>2.8</td>\n",
       "      <td>6</td>\n",
       "      <td>13.0</td>\n",
       "      <td>248</td>\n",
       "    </tr>\n",
       "    <tr>\n",
       "      <th>12</th>\n",
       "      <td>2000</td>\n",
       "      <td>2.8</td>\n",
       "      <td>6</td>\n",
       "      <td>11.7</td>\n",
       "      <td>225</td>\n",
       "    </tr>\n",
       "    <tr>\n",
       "      <th>13</th>\n",
       "      <td>2000</td>\n",
       "      <td>1.8</td>\n",
       "      <td>4</td>\n",
       "      <td>12.1</td>\n",
       "      <td>232</td>\n",
       "    </tr>\n",
       "    <tr>\n",
       "      <th>14</th>\n",
       "      <td>2000</td>\n",
       "      <td>1.8</td>\n",
       "      <td>4</td>\n",
       "      <td>10.7</td>\n",
       "      <td>214</td>\n",
       "    </tr>\n",
       "  </tbody>\n",
       "</table>\n",
       "<p>15 rows × 5 columns</p>\n",
       "</div>"
      ],
      "text/plain": [
       "    YEAR  ENGINE SIZE  CYLINDERS  FUEL CONSUMPTION  EMISSIONS\n",
       "0   2000          1.6          4               9.2        186\n",
       "1   2000          1.6          4               8.5        175\n",
       "2   2000          3.2          6              12.2        230\n",
       "3   2000          3.5          6              13.4        264\n",
       "4   2000          1.8          4              10.0        198\n",
       "..   ...          ...        ...               ...        ...\n",
       "10  2000          1.8          4               9.7        193\n",
       "11  2000          2.8          6              13.0        248\n",
       "12  2000          2.8          6              11.7        225\n",
       "13  2000          1.8          4              12.1        232\n",
       "14  2000          1.8          4              10.7        214\n",
       "\n",
       "[15 rows x 5 columns]"
      ]
     },
     "execution_count": 4,
     "metadata": {},
     "output_type": "execute_result"
    }
   ],
   "source": [
    "# Display numeric columns\n",
    "numeric_columns = data_df.select_dtypes(exclude=['object'])\n",
    "numeric_columns.head(15)"
   ]
  },
  {
   "cell_type": "code",
   "execution_count": 5,
   "id": "10388d91",
   "metadata": {},
   "outputs": [
    {
     "data": {
      "text/html": [
       "<div>\n",
       "<style scoped>\n",
       "    .dataframe tbody tr th:only-of-type {\n",
       "        vertical-align: middle;\n",
       "    }\n",
       "\n",
       "    .dataframe tbody tr th {\n",
       "        vertical-align: top;\n",
       "    }\n",
       "\n",
       "    .dataframe thead th {\n",
       "        text-align: right;\n",
       "    }\n",
       "</style>\n",
       "<table border=\"1\" class=\"dataframe\">\n",
       "  <thead>\n",
       "    <tr style=\"text-align: right;\">\n",
       "      <th></th>\n",
       "      <th>MAKE</th>\n",
       "      <th>MODEL</th>\n",
       "      <th>VEHICLE CLASS</th>\n",
       "      <th>TRANSMISSION</th>\n",
       "      <th>FUEL</th>\n",
       "    </tr>\n",
       "  </thead>\n",
       "  <tbody>\n",
       "    <tr>\n",
       "      <th>0</th>\n",
       "      <td>ACURA</td>\n",
       "      <td>1.6EL</td>\n",
       "      <td>COMPACT</td>\n",
       "      <td>A4</td>\n",
       "      <td>X</td>\n",
       "    </tr>\n",
       "    <tr>\n",
       "      <th>1</th>\n",
       "      <td>ACURA</td>\n",
       "      <td>1.6EL</td>\n",
       "      <td>COMPACT</td>\n",
       "      <td>M5</td>\n",
       "      <td>X</td>\n",
       "    </tr>\n",
       "    <tr>\n",
       "      <th>2</th>\n",
       "      <td>ACURA</td>\n",
       "      <td>3.2TL</td>\n",
       "      <td>MID-SIZE</td>\n",
       "      <td>AS5</td>\n",
       "      <td>Z</td>\n",
       "    </tr>\n",
       "    <tr>\n",
       "      <th>3</th>\n",
       "      <td>ACURA</td>\n",
       "      <td>3.5RL</td>\n",
       "      <td>MID-SIZE</td>\n",
       "      <td>A4</td>\n",
       "      <td>Z</td>\n",
       "    </tr>\n",
       "    <tr>\n",
       "      <th>4</th>\n",
       "      <td>ACURA</td>\n",
       "      <td>INTEGRA</td>\n",
       "      <td>SUBCOMPACT</td>\n",
       "      <td>A4</td>\n",
       "      <td>X</td>\n",
       "    </tr>\n",
       "    <tr>\n",
       "      <th>...</th>\n",
       "      <td>...</td>\n",
       "      <td>...</td>\n",
       "      <td>...</td>\n",
       "      <td>...</td>\n",
       "      <td>...</td>\n",
       "    </tr>\n",
       "    <tr>\n",
       "      <th>10</th>\n",
       "      <td>AUDI</td>\n",
       "      <td>A4</td>\n",
       "      <td>COMPACT</td>\n",
       "      <td>M5</td>\n",
       "      <td>Z</td>\n",
       "    </tr>\n",
       "    <tr>\n",
       "      <th>11</th>\n",
       "      <td>AUDI</td>\n",
       "      <td>A4</td>\n",
       "      <td>COMPACT</td>\n",
       "      <td>A5</td>\n",
       "      <td>Z</td>\n",
       "    </tr>\n",
       "    <tr>\n",
       "      <th>12</th>\n",
       "      <td>AUDI</td>\n",
       "      <td>A4</td>\n",
       "      <td>COMPACT</td>\n",
       "      <td>M5</td>\n",
       "      <td>Z</td>\n",
       "    </tr>\n",
       "    <tr>\n",
       "      <th>13</th>\n",
       "      <td>AUDI</td>\n",
       "      <td>A4 QUATTRO</td>\n",
       "      <td>COMPACT</td>\n",
       "      <td>A5</td>\n",
       "      <td>Z</td>\n",
       "    </tr>\n",
       "    <tr>\n",
       "      <th>14</th>\n",
       "      <td>AUDI</td>\n",
       "      <td>A4 QUATTRO</td>\n",
       "      <td>COMPACT</td>\n",
       "      <td>M5</td>\n",
       "      <td>Z</td>\n",
       "    </tr>\n",
       "  </tbody>\n",
       "</table>\n",
       "<p>15 rows × 5 columns</p>\n",
       "</div>"
      ],
      "text/plain": [
       "     MAKE       MODEL VEHICLE CLASS TRANSMISSION FUEL\n",
       "0   ACURA       1.6EL       COMPACT           A4    X\n",
       "1   ACURA       1.6EL       COMPACT           M5    X\n",
       "2   ACURA       3.2TL      MID-SIZE          AS5    Z\n",
       "3   ACURA       3.5RL      MID-SIZE           A4    Z\n",
       "4   ACURA     INTEGRA    SUBCOMPACT           A4    X\n",
       "..    ...         ...           ...          ...  ...\n",
       "10   AUDI          A4       COMPACT           M5    Z\n",
       "11   AUDI          A4       COMPACT           A5    Z\n",
       "12   AUDI          A4       COMPACT           M5    Z\n",
       "13   AUDI  A4 QUATTRO       COMPACT           A5    Z\n",
       "14   AUDI  A4 QUATTRO       COMPACT           M5    Z\n",
       "\n",
       "[15 rows x 5 columns]"
      ]
     },
     "execution_count": 5,
     "metadata": {},
     "output_type": "execute_result"
    }
   ],
   "source": [
    "# Display non_numeric columns\n",
    "non_numeric_columns = data_df.select_dtypes(include=['object'])\n",
    "non_numeric_columns.head(15)"
   ]
  },
  {
   "cell_type": "code",
   "execution_count": 6,
   "id": "1b008c7b",
   "metadata": {},
   "outputs": [
    {
     "data": {
      "text/plain": [
       "array([2000, 2001, 2002, 2003, 2004, 2005, 2006, 2007, 2008, 2009, 2010,\n",
       "       2011, 2012, 2013, 2014, 2015, 2016, 2017, 2018, 2019, 2020, 2021,\n",
       "       2022], dtype=int64)"
      ]
     },
     "execution_count": 6,
     "metadata": {},
     "output_type": "execute_result"
    }
   ],
   "source": [
    "pd.options.display.max_rows = None #displays all rows\n",
    "data_df['YEAR'].unique()\n",
    "# data_df['YEAR'].value_counts()"
   ]
  },
  {
   "cell_type": "code",
   "execution_count": 7,
   "id": "88797514",
   "metadata": {},
   "outputs": [
    {
     "data": {
      "text/plain": [
       "array(['ACURA', 'AUDI', 'BMW', 'BUICK', 'CADILLAC', 'CHEVROLET',\n",
       "       'CHRYSLER', 'DAEWOO', 'DODGE', 'FERRARI', 'FORD', 'GMC', 'HONDA',\n",
       "       'HYUNDAI', 'INFINITI', 'ISUZU', 'JAGUAR', 'JEEP', 'KIA',\n",
       "       'LAND ROVER', 'LEXUS', 'LINCOLN', 'MAZDA', 'MERCEDES-BENZ',\n",
       "       'NISSAN', 'OLDSMOBILE', 'PLYMOUTH', 'PONTIAC', 'PORSCHE', 'SAAB',\n",
       "       'SATURN', 'SUBARU', 'SUZUKI', 'TOYOTA', 'VOLKSWAGEN', 'VOLVO',\n",
       "       'BENTLEY', 'ROLLS-ROYCE', 'MASERATI', 'MINI', 'MITSUBISHI',\n",
       "       'SMART', 'HUMMER', 'ASTON MARTIN', 'LAMBORGHINI', 'BUGATTI',\n",
       "       'SCION', 'FIAT', 'RAM', 'SRT', 'ALFA ROMEO', 'GENESIS', 'Acura',\n",
       "       'Alfa Romeo', 'Aston Martin', 'Audi', 'Bentley', 'Bugatti',\n",
       "       'Buick', 'Cadillac', 'Chevrolet', 'Chrysler', 'Dodge', 'Ford',\n",
       "       'Genesis', 'Honda', 'Hyundai', 'Infiniti', 'Jaguar', 'Jeep', 'Kia',\n",
       "       'Lamborghini', 'Land Rover', 'Lexus', 'Lincoln', 'Maserati',\n",
       "       'Mazda', 'Mercedes-Benz', 'Mitsubishi', 'Nissan', 'Porsche', 'Ram',\n",
       "       'Rolls-Royce', 'Subaru', 'Toyota', 'Volkswagen', 'Volvo'],\n",
       "      dtype=object)"
      ]
     },
     "execution_count": 7,
     "metadata": {},
     "output_type": "execute_result"
    }
   ],
   "source": [
    "# data_df['MAKE'].value_counts()\n",
    "data_df['MAKE'].unique()"
   ]
  },
  {
   "cell_type": "code",
   "execution_count": 8,
   "id": "a28dd673",
   "metadata": {},
   "outputs": [
    {
     "data": {
      "text/plain": [
       "Compact                    3127\n",
       "Mid-size                   2960\n",
       "SUV                        2640\n",
       "Pickup truck: Standard     2204\n",
       "Subcompact                 2010\n",
       "SUV: Small                 1756\n",
       "Full-size                  1503\n",
       "Two-seater                 1312\n",
       "SUV: Standard              1122\n",
       "Minicompact                 994\n",
       "Station wagon: Small        877\n",
       "Pickup truck: Small         511\n",
       "Minivan                     408\n",
       "Station wagon: Mid-size     387\n",
       "Van - Cargo                 332\n",
       "Van: Passenger              299\n",
       "Special purpose vehicle     114\n",
       "Name: VEHICLE CLASS, dtype: int64"
      ]
     },
     "execution_count": 8,
     "metadata": {},
     "output_type": "execute_result"
    }
   ],
   "source": [
    "data_df['VEHICLE CLASS'] = data_df['VEHICLE CLASS'].replace(to_replace = 'COMPACT', value = 'Compact')\n",
    "data_df['VEHICLE CLASS'] = data_df['VEHICLE CLASS'].replace(to_replace = 'FULL-SIZE', value = 'Full-size')\n",
    "data_df['VEHICLE CLASS'] = data_df['VEHICLE CLASS'].replace(to_replace = 'MID-SIZE', value = 'Mid-size')\n",
    "data_df['VEHICLE CLASS'] = data_df['VEHICLE CLASS'].replace(to_replace = 'MINICOMPACT', value = 'Minicompact')\n",
    "data_df['VEHICLE CLASS'] = data_df['VEHICLE CLASS'].replace(to_replace = 'MINIVAN', value = 'Minivan')\n",
    "data_df['VEHICLE CLASS'] = data_df['VEHICLE CLASS'].replace(to_replace = 'PICKUP TRUCK - SMALL', value = 'Pickup truck: Small')\n",
    "data_df['VEHICLE CLASS'] = data_df['VEHICLE CLASS'].replace(to_replace = 'PICKUP TRUCK - STANDARD', value = 'Pickup truck: Standard')\n",
    "data_df['VEHICLE CLASS'] = data_df['VEHICLE CLASS'].replace(to_replace = 'SPECIAL PURPOSE VEHICLE', value = 'Special purpose vehicle')\n",
    "\n",
    "\n",
    "data_df['VEHICLE CLASS'] = data_df['VEHICLE CLASS'].replace(to_replace = 'STATION WAGON - MID-SIZE', value = 'Station wagon: Mid-size')\n",
    "data_df['VEHICLE CLASS'] = data_df['VEHICLE CLASS'].replace(to_replace = 'STATION WAGON - SMALL', value = 'Station wagon: Small')\n",
    "\n",
    "data_df['VEHICLE CLASS'] = data_df['VEHICLE CLASS'].replace(to_replace = 'SUV - SMALL', value = 'SUV: Small')\n",
    "data_df['VEHICLE CLASS'] = data_df['VEHICLE CLASS'].replace(to_replace = 'SUV - STANDARD', value = 'SUV: Standard')\n",
    "\n",
    "data_df['VEHICLE CLASS'] = data_df['VEHICLE CLASS'].replace(to_replace = 'TWO-SEATER', value = 'Two-seater')\n",
    "\n",
    "data_df['VEHICLE CLASS'] = data_df['VEHICLE CLASS'].replace(to_replace = 'VAN - PASSENGER', value = 'Van: Passenger')\n",
    "\n",
    "data_df['VEHICLE CLASS'] = data_df['VEHICLE CLASS'].replace(to_replace = 'SUBCOMPACT', value = 'Subcompact')\n",
    "\n",
    "data_df['VEHICLE CLASS'] = data_df['VEHICLE CLASS'].replace(to_replace = 'VAN - CARGO', value = 'Van - Cargo')\n",
    "\n",
    "# sorted(data_df['VEHICLE CLASS'].unique())\n",
    "\n",
    "data_df['VEHICLE CLASS'].value_counts()"
   ]
  },
  {
   "cell_type": "code",
   "execution_count": 9,
   "id": "2faed900",
   "metadata": {
    "scrolled": true
   },
   "outputs": [
    {
     "data": {
      "text/plain": [
       "Mustang          110\n",
       "Jetta             97\n",
       "Sierra            77\n",
       "Silverado         77\n",
       "Corolla           70\n",
       "Sierra 4Wd        70\n",
       "Silverado 4Wd     70\n",
       "Sentra            68\n",
       "Accord            62\n",
       "Ranger            61\n",
       "Tacoma            61\n",
       "Passat            60\n",
       "Canyon            60\n",
       "Colorado          60\n",
       "Altima            60\n",
       "Name: MODEL, dtype: int64"
      ]
     },
     "execution_count": 9,
     "metadata": {},
     "output_type": "execute_result"
    }
   ],
   "source": [
    "\n",
    "data_df['MODEL'] = data_df['MODEL'].str.title()\n",
    "# len(data_df['MODEL'].unique())\n",
    "data_df['MODEL'].value_counts().head(15)\n"
   ]
  },
  {
   "cell_type": "code",
   "execution_count": 10,
   "id": "15e20e18",
   "metadata": {},
   "outputs": [
    {
     "data": {
      "text/plain": [
       "2.0    3020\n",
       "3.0    2070\n",
       "2.5    1506\n",
       "3.5    1467\n",
       "5.3    1230\n",
       "2.4    1226\n",
       "3.6    1173\n",
       "4.0     707\n",
       "1.6     697\n",
       "1.8     646\n",
       "3.8     515\n",
       "5.0     475\n",
       "3.7     448\n",
       "2.7     417\n",
       "6.2     415\n",
       "Name: ENGINE SIZE, dtype: int64"
      ]
     },
     "execution_count": 10,
     "metadata": {},
     "output_type": "execute_result"
    }
   ],
   "source": [
    "# len(data_df['ENGINE SIZE'].value_counts())\n",
    "data_df['ENGINE SIZE'].value_counts().head(15)"
   ]
  },
  {
   "cell_type": "code",
   "execution_count": 11,
   "id": "c12f3b62",
   "metadata": {},
   "outputs": [
    {
     "data": {
      "text/plain": [
       "4     8049\n",
       "6     8021\n",
       "8     5187\n",
       "5      499\n",
       "12     451\n",
       "10     162\n",
       "3      159\n",
       "2       16\n",
       "16      12\n",
       "Name: CYLINDERS, dtype: int64"
      ]
     },
     "execution_count": 11,
     "metadata": {},
     "output_type": "execute_result"
    }
   ],
   "source": [
    "data_df['CYLINDERS'].value_counts()"
   ]
  },
  {
   "cell_type": "code",
   "execution_count": 12,
   "id": "719cde06",
   "metadata": {},
   "outputs": [
    {
     "data": {
      "text/plain": [
       "A4      3519\n",
       "AS6     2834\n",
       "M6      2609\n",
       "M5      2104\n",
       "A6      1965\n",
       "AS8     1733\n",
       "A5      1420\n",
       "AS5      865\n",
       "AV       816\n",
       "A8       794\n",
       "AM7      689\n",
       "AS7      614\n",
       "A9       529\n",
       "AS10     335\n",
       "A7       278\n",
       "Name: TRANSMISSION, dtype: int64"
      ]
     },
     "execution_count": 12,
     "metadata": {},
     "output_type": "execute_result"
    }
   ],
   "source": [
    "# len(data_df['TRANSMISSION'].value_counts())\n",
    "data_df['TRANSMISSION'].value_counts().head(15)"
   ]
  },
  {
   "cell_type": "code",
   "execution_count": 13,
   "id": "94e36df8",
   "metadata": {},
   "outputs": [
    {
     "data": {
      "text/plain": [
       "X    11822\n",
       "Z     9316\n",
       "E     1071\n",
       "D      314\n",
       "N       33\n",
       "Name: FUEL, dtype: int64"
      ]
     },
     "execution_count": 13,
     "metadata": {},
     "output_type": "execute_result"
    }
   ],
   "source": [
    "data_df['FUEL'].value_counts()"
   ]
  },
  {
   "cell_type": "code",
   "execution_count": 14,
   "id": "75d9909f",
   "metadata": {
    "scrolled": true
   },
   "outputs": [
    {
     "data": {
      "text/html": [
       "<div>\n",
       "<style scoped>\n",
       "    .dataframe tbody tr th:only-of-type {\n",
       "        vertical-align: middle;\n",
       "    }\n",
       "\n",
       "    .dataframe tbody tr th {\n",
       "        vertical-align: top;\n",
       "    }\n",
       "\n",
       "    .dataframe thead th {\n",
       "        text-align: right;\n",
       "    }\n",
       "</style>\n",
       "<table border=\"1\" class=\"dataframe\">\n",
       "  <thead>\n",
       "    <tr style=\"text-align: right;\">\n",
       "      <th></th>\n",
       "      <th>YEAR</th>\n",
       "      <th>ENGINE SIZE</th>\n",
       "      <th>CYLINDERS</th>\n",
       "      <th>FUEL CONSUMPTION</th>\n",
       "      <th>EMISSIONS</th>\n",
       "    </tr>\n",
       "  </thead>\n",
       "  <tbody>\n",
       "    <tr>\n",
       "      <th>count</th>\n",
       "      <td>22556.000000</td>\n",
       "      <td>22556.000000</td>\n",
       "      <td>22556.000000</td>\n",
       "      <td>22556.000000</td>\n",
       "      <td>22556.000000</td>\n",
       "    </tr>\n",
       "    <tr>\n",
       "      <th>mean</th>\n",
       "      <td>2011.554442</td>\n",
       "      <td>3.356646</td>\n",
       "      <td>5.854141</td>\n",
       "      <td>12.763513</td>\n",
       "      <td>250.068452</td>\n",
       "    </tr>\n",
       "    <tr>\n",
       "      <th>std</th>\n",
       "      <td>6.298269</td>\n",
       "      <td>1.335425</td>\n",
       "      <td>1.819597</td>\n",
       "      <td>3.500999</td>\n",
       "      <td>59.355276</td>\n",
       "    </tr>\n",
       "    <tr>\n",
       "      <th>min</th>\n",
       "      <td>2000.000000</td>\n",
       "      <td>0.800000</td>\n",
       "      <td>2.000000</td>\n",
       "      <td>3.500000</td>\n",
       "      <td>83.000000</td>\n",
       "    </tr>\n",
       "    <tr>\n",
       "      <th>25%</th>\n",
       "      <td>2006.000000</td>\n",
       "      <td>2.300000</td>\n",
       "      <td>4.000000</td>\n",
       "      <td>10.400000</td>\n",
       "      <td>209.000000</td>\n",
       "    </tr>\n",
       "    <tr>\n",
       "      <th>50%</th>\n",
       "      <td>2012.000000</td>\n",
       "      <td>3.000000</td>\n",
       "      <td>6.000000</td>\n",
       "      <td>12.300000</td>\n",
       "      <td>243.000000</td>\n",
       "    </tr>\n",
       "    <tr>\n",
       "      <th>75%</th>\n",
       "      <td>2017.000000</td>\n",
       "      <td>4.200000</td>\n",
       "      <td>8.000000</td>\n",
       "      <td>14.725000</td>\n",
       "      <td>288.000000</td>\n",
       "    </tr>\n",
       "    <tr>\n",
       "      <th>max</th>\n",
       "      <td>2022.000000</td>\n",
       "      <td>8.400000</td>\n",
       "      <td>16.000000</td>\n",
       "      <td>30.600000</td>\n",
       "      <td>608.000000</td>\n",
       "    </tr>\n",
       "  </tbody>\n",
       "</table>\n",
       "</div>"
      ],
      "text/plain": [
       "               YEAR   ENGINE SIZE     CYLINDERS  FUEL CONSUMPTION  \\\n",
       "count  22556.000000  22556.000000  22556.000000      22556.000000   \n",
       "mean    2011.554442      3.356646      5.854141         12.763513   \n",
       "std        6.298269      1.335425      1.819597          3.500999   \n",
       "min     2000.000000      0.800000      2.000000          3.500000   \n",
       "25%     2006.000000      2.300000      4.000000         10.400000   \n",
       "50%     2012.000000      3.000000      6.000000         12.300000   \n",
       "75%     2017.000000      4.200000      8.000000         14.725000   \n",
       "max     2022.000000      8.400000     16.000000         30.600000   \n",
       "\n",
       "          EMISSIONS  \n",
       "count  22556.000000  \n",
       "mean     250.068452  \n",
       "std       59.355276  \n",
       "min       83.000000  \n",
       "25%      209.000000  \n",
       "50%      243.000000  \n",
       "75%      288.000000  \n",
       "max      608.000000  "
      ]
     },
     "execution_count": 14,
     "metadata": {},
     "output_type": "execute_result"
    }
   ],
   "source": [
    "numeric_columns.describe()"
   ]
  },
  {
   "cell_type": "code",
   "execution_count": 15,
   "id": "16e44b40",
   "metadata": {},
   "outputs": [
    {
     "data": {
      "text/plain": [
       "array([[<AxesSubplot:title={'center':'YEAR'}>,\n",
       "        <AxesSubplot:title={'center':'ENGINE SIZE'}>],\n",
       "       [<AxesSubplot:title={'center':'CYLINDERS'}>,\n",
       "        <AxesSubplot:title={'center':'FUEL CONSUMPTION'}>],\n",
       "       [<AxesSubplot:title={'center':'EMISSIONS'}>, <AxesSubplot:>]],\n",
       "      dtype=object)"
      ]
     },
     "execution_count": 15,
     "metadata": {},
     "output_type": "execute_result"
    },
    {
     "data": {
      "image/png": "[encoded data removed]",
      "text/plain": [
       "<Figure size 1440x1080 with 6 Axes>"
      ]
     },
     "metadata": {
      "needs_background": "light"
     },
     "output_type": "display_data"
    }
   ],
   "source": [
    "numeric_columns.hist(figsize = (20, 15))"
   ]
  },
  {
   "cell_type": "code",
   "execution_count": 32,
   "id": "0f72db21",
   "metadata": {},
   "outputs": [
    {
     "data": {
      "text/plain": [
       "<AxesSubplot:xlabel='ENGINE SIZE', ylabel='FUEL CONSUMPTION'>"
      ]
     },
     "execution_count": 32,
     "metadata": {},
     "output_type": "execute_result"
    },
    {
     "data": {
      "image/png": "[encoded data removed]",
      "text/plain": [
       "<Figure size 1440x720 with 1 Axes>"
      ]
     },
     "metadata": {
      "needs_background": "light"
     },
     "output_type": "display_data"
    }
   ],
   "source": [
    "data_df.plot(kind = 'scatter', x = 'ENGINE SIZE', y = 'FUEL CONSUMPTION', figsize = (20, 10))"
   ]
  },
  {
   "cell_type": "code",
   "execution_count": 28,
   "id": "030da940",
   "metadata": {},
   "outputs": [
    {
     "data": {
      "text/plain": [
       "<AxesSubplot:xlabel='CYLINDERS', ylabel='FUEL CONSUMPTION'>"
      ]
     },
     "execution_count": 28,
     "metadata": {},
     "output_type": "execute_result"
    },
    {
     "data": {
      "image/png": "[encoded data removed]",
      "text/plain": [
       "<Figure size 1440x720 with 1 Axes>"
      ]
     },
     "metadata": {
      "needs_background": "light"
     },
     "output_type": "display_data"
    }
   ],
   "source": [
    "data_df.plot(kind = 'scatter', x = 'CYLINDERS', y = 'FUEL CONSUMPTION', figsize = (20, 10))"
   ]
  },
  {
   "cell_type": "code",
   "execution_count": 33,
   "id": "c3ddacc2",
   "metadata": {
    "scrolled": true
   },
   "outputs": [
    {
     "data": {
      "text/plain": [
       "Index(['YEAR', 'MAKE', 'MODEL', 'VEHICLE CLASS', 'ENGINE SIZE', 'CYLINDERS',\n",
       "       'TRANSMISSION', 'FUEL', 'FUEL CONSUMPTION', 'EMISSIONS'],\n",
       "      dtype='object')"
      ]
     },
     "execution_count": 33,
     "metadata": {},
     "output_type": "execute_result"
    }
   ],
   "source": [
    "data_df.columns"
   ]
  },
  {
   "cell_type": "code",
   "execution_count": 49,
   "id": "c41e15f6",
   "metadata": {},
   "outputs": [
    {
     "data": {
      "text/plain": [
       "<AxesSubplot:>"
      ]
     },
     "execution_count": 49,
     "metadata": {},
     "output_type": "execute_result"
    },
    {
     "data": {
      "image/png": "[encoded data removed]",
      "text/plain": [
       "<Figure size 432x288 with 2 Axes>"
      ]
     },
     "metadata": {
      "needs_background": "light"
     },
     "output_type": "display_data"
    }
   ],
   "source": [
    "import seaborn as sns\n",
    "corr_var = data_df[['CYLINDERS', 'ENGINE SIZE', 'FUEL CONSUMPTION']].corr()\n",
    "sns.heatmap(corr_var, annot = True)"
   ]
  },
  {
   "cell_type": "code",
   "execution_count": 50,
   "id": "d4f5bd38",
   "metadata": {},
   "outputs": [
    {
     "data": {
      "text/plain": [
       "<AxesSubplot:>"
      ]
     },
     "execution_count": 50,
     "metadata": {},
     "output_type": "execute_result"
    },
    {
     "data": {
      "image/png": "[encoded data removed]",
      "text/plain": [
       "<Figure size 432x288 with 2 Axes>"
      ]
     },
     "metadata": {
      "needs_background": "light"
     },
     "output_type": "display_data"
    }
   ],
   "source": [
    "corr_var = data_df[['CYLINDERS', 'ENGINE SIZE', 'EMISSIONS']].corr()\n",
    "sns.heatmap(corr_var, annot = True)"
   ]
  },
  {
   "cell_type": "code",
   "execution_count": null,
   "id": "8d4925de",
   "metadata": {},
   "outputs": [],
   "source": []
  }
 ],
 "metadata": {
  "kernelspec": {
   "display_name": "Python 3 (ipykernel)",
   "language": "python",
   "name": "python3"
  },
  "language_info": {
   "codemirror_mode": {
    "name": "ipython",
    "version": 3
   },
   "file_extension": ".py",
   "mimetype": "text/x-python",
   "name": "python",
   "nbconvert_exporter": "python",
   "pygments_lexer": "ipython3",
   "version": "3.9.7"
  }
 },
 "nbformat": 4,
 "nbformat_minor": 5
}
